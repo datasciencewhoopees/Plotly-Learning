{
 "cells": [
  {
   "cell_type": "markdown",
   "metadata": {},
   "source": [
    "# Plotly Interactive Line and Area Plots\n",
    "\n",
    "__*By - Data Science Whoopees*__"
   ]
  },
  {
   "cell_type": "markdown",
   "metadata": {},
   "source": [
    "## Installation\n",
    "\n",
    "You need to install plotly first:\n",
    "   \n",
    "    pip install plotly\n",
    "    \n",
    "    conda install -c plotly plotly\n",
    "    \n",
    "[Plotly Python](https://plotly.com/python/)"
   ]
  },
  {
   "cell_type": "code",
   "execution_count": null,
   "metadata": {
    "id": "4h_L93bSQbTS"
   },
   "outputs": [],
   "source": [
    "import plotly.express as px  \n",
    "import os\n",
    "import pandas as pd\n",
    "import numpy as np\n",
    "import math"
   ]
  },
  {
   "cell_type": "markdown",
   "metadata": {},
   "source": [
    "### 3D distribution\n",
    "\n",
    "\n",
    "**1. Scatter plot on Casterine grid system consisting of x, y and z**"
   ]
  },
  {
   "cell_type": "code",
   "execution_count": null,
   "metadata": {
    "id": "JRUIZpRdY-M6"
   },
   "outputs": [],
   "source": [
    "r = 4\n",
    "t = np.linspace(-8*math.pi, 8*math.pi, 500)\n",
    "x,y,z = r*np.cos(t), r*np.sin(t), t\n",
    "df = pd.DataFrame()\n",
    "df['x'] = x\n",
    "df['y'] = y\n",
    "df['z'] = z"
   ]
  },
  {
   "cell_type": "code",
   "execution_count": null,
   "metadata": {
    "colab": {
     "base_uri": "https://localhost:8080/",
     "height": 542
    },
    "id": "1yMlS1yxZj-7",
    "outputId": "0f0f68b3-b7d8-445b-e2ac-6ec312313f16"
   },
   "outputs": [],
   "source": [
    "fig = px.scatter_3d(df,x='x',y='y',z='z')\n",
    "fig.show()\n",
    "fig.write_image(\"images/fig1.png\")"
   ]
  },
  {
   "cell_type": "markdown",
   "metadata": {},
   "source": [
    "### 3D distribution\n",
    "\n",
    "\n",
    "**1. Line plot on Casterine grid system**"
   ]
  },
  {
   "cell_type": "code",
   "execution_count": null,
   "metadata": {
    "colab": {
     "base_uri": "https://localhost:8080/",
     "height": 542
    },
    "id": "1RI2xbufaKNn",
    "outputId": "c127548d-1fb4-4072-c7ea-78b211481ca6"
   },
   "outputs": [],
   "source": [
    "fig = px.line_3d(df,x='x',y='y',z='z')\n",
    "fig.show()\n",
    "fig.write_image(\"images/fig2.png\")"
   ]
  },
  {
   "cell_type": "code",
   "execution_count": null,
   "metadata": {
    "id": "JyFBEmxAQl7m"
   },
   "outputs": [],
   "source": [
    "# x, y = rcos, rsin\n",
    "r = 4\n",
    "circle = []\n",
    "for z in np.arange(2,20,2):\n",
    "    for theta in np.arange(-2*math.pi, 2*math.pi, 0.02):\n",
    "        x,y = r*np.cos(theta), r*np.sin(theta)\n",
    "        circle.append([x,y,z, str(int(z/2))])"
   ]
  },
  {
   "cell_type": "code",
   "execution_count": null,
   "metadata": {
    "id": "n9koCnTOVoaL"
   },
   "outputs": [],
   "source": [
    "df = pd.DataFrame(data=circle, columns=['x','y','z','layer'])"
   ]
  },
  {
   "cell_type": "markdown",
   "metadata": {},
   "source": [
    "### 3D distribution\n",
    "\n",
    "\n",
    "**1. Line plot on Casterine grid system**"
   ]
  },
  {
   "cell_type": "code",
   "execution_count": null,
   "metadata": {
    "colab": {
     "base_uri": "https://localhost:8080/",
     "height": 542
    },
    "id": "42jrYpgMWsEx",
    "outputId": "34f95a5a-1c0e-467c-b59c-d0ac87930819"
   },
   "outputs": [],
   "source": [
    "fig = px.line_3d(df,x='x',y='y',z='z', color='layer')\n",
    "fig.show()\n",
    "fig.write_image(\"images/fig3.png\")"
   ]
  },
  {
   "cell_type": "code",
   "execution_count": null,
   "metadata": {
    "id": "hSayWpd_Wz6a"
   },
   "outputs": [],
   "source": []
  }
 ],
 "metadata": {
  "colab": {
   "collapsed_sections": [],
   "name": "Plotly 3D Plot.ipynb",
   "provenance": []
  },
  "kernelspec": {
   "display_name": "Python 3",
   "language": "python",
   "name": "python3"
  },
  "language_info": {
   "codemirror_mode": {
    "name": "ipython",
    "version": 3
   },
   "file_extension": ".py",
   "mimetype": "text/x-python",
   "name": "python",
   "nbconvert_exporter": "python",
   "pygments_lexer": "ipython3",
   "version": "3.6.6"
  }
 },
 "nbformat": 4,
 "nbformat_minor": 1
}
